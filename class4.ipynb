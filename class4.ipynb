{
 "cells": [
  {
   "cell_type": "code",
   "execution_count": 1,
   "metadata": {},
   "outputs": [],
   "source": [
    "dir(list)"
   ]
  },
  {
   "cell_type": "code",
   "execution_count": 2,
   "metadata": {},
   "outputs": [
    {
     "data": {
      "text/plain": [
       "['A', 'B', 'C', 'D']"
      ]
     },
     "execution_count": 2,
     "metadata": {},
     "output_type": "execute_result"
    }
   ],
   "source": [
    "names=[]\n",
    "names.append(\"A\")\n",
    "names.append(\"B\")\n",
    "names.append(\"C\")\n",
    "names.append(\"D\")\n",
    "names"
   ]
  },
  {
   "cell_type": "code",
   "execution_count": 3,
   "metadata": {},
   "outputs": [
    {
     "data": {
      "text/plain": [
       "1"
      ]
     },
     "execution_count": 3,
     "metadata": {},
     "output_type": "execute_result"
    }
   ],
   "source": [
    "names=['a','b','c','d']\n",
    "names.count(\"a\")"
   ]
  },
  {
   "cell_type": "code",
   "execution_count": 4,
   "metadata": {},
   "outputs": [
    {
     "name": "stdout",
     "output_type": "stream",
     "text": [
      "['a', 'b', 'c', 'e', 'f', 'g']\n",
      "['a', 'b', 'c']\n",
      "['e', 'f', 'g']\n"
     ]
    }
   ],
   "source": [
    "l1=['a','b','c']\n",
    "l2=['e','f','g']\n",
    "l3=l1+l2#in line function\n",
    "print(l3)\n",
    "print(l1)\n",
    "print(l2)"
   ]
  },
  {
   "cell_type": "code",
   "execution_count": 5,
   "metadata": {},
   "outputs": [
    {
     "name": "stdout",
     "output_type": "stream",
     "text": [
      "None\n",
      "['a', 'b', 'c', 'e', 'f', 'g']\n",
      "['e', 'f', 'g']\n"
     ]
    }
   ],
   "source": [
    "l1=['a','b','c']\n",
    "l2=['e','f','g']\n",
    "l3=l1.extend(l2)# in memory operation\n",
    "print(l3)\n",
    "print(l1)\n",
    "print(l2)"
   ]
  },
  {
   "cell_type": "code",
   "execution_count": 6,
   "metadata": {},
   "outputs": [
    {
     "name": "stdout",
     "output_type": "stream",
     "text": [
      "['a', 'b', 'c', 'e', 'f', 'g']\n"
     ]
    },
    {
     "data": {
      "text/plain": [
       "2"
      ]
     },
     "execution_count": 6,
     "metadata": {},
     "output_type": "execute_result"
    }
   ],
   "source": [
    "print(l1)\n",
    "names.index(\"c\")"
   ]
  },
  {
   "cell_type": "code",
   "execution_count": 7,
   "metadata": {},
   "outputs": [
    {
     "name": "stdout",
     "output_type": "stream",
     "text": [
      "['a', 'b', 'c', 'a', 'e', 'f', 'g']\n",
      "0\n",
      "3\n"
     ]
    }
   ],
   "source": [
    "l1=['a', 'b', 'c', 'a', 'e', 'f', 'g']\n",
    "print(l1)\n",
    "print(l1.index(\"a\"))#inde always gives the position of asked variable\n",
    "print(l1.index(\"a\", 1))#by position word"
   ]
  },
  {
   "cell_type": "code",
   "execution_count": 8,
   "metadata": {},
   "outputs": [
    {
     "name": "stdout",
     "output_type": "stream",
     "text": [
      "['A', 'a', 'b', 'c', 'a', 'e', 'f', 'g']\n",
      "['A', 'a', 'b', 'c', 'K', 'a', 'e', 'f', 'g']\n"
     ]
    }
   ],
   "source": [
    "l1=['a', 'b', 'c', 'a', 'e', 'f', 'g']\n",
    "l1.insert(0, \"A\")\n",
    "print(l1)\n",
    "l1.insert(4, \"K\")\n",
    "print(l1)"
   ]
  },
  {
   "cell_type": "code",
   "execution_count": 9,
   "metadata": {},
   "outputs": [
    {
     "name": "stdout",
     "output_type": "stream",
     "text": [
      "['a', 'b', 'c', 'a', 'e', 'f']\n",
      "g\n"
     ]
    }
   ],
   "source": [
    "l1=['a', 'b', 'c', 'a', 'e', 'f', 'g']\n",
    "a=l1.pop()\n",
    "print(l1)#it removes last element from list or any defined function.\n",
    "print(a)#this keyword always return the removed element but on the other hand del(delete) keyword only removes."
   ]
  },
  {
   "cell_type": "code",
   "execution_count": 10,
   "metadata": {},
   "outputs": [
    {
     "name": "stdout",
     "output_type": "stream",
     "text": [
      "['A', 'C']\n",
      "B\n"
     ]
    }
   ],
   "source": [
    "l1=[\"A\",\"B\",\"C\"]\n",
    "a=l1.pop(1)\n",
    "print(l1)\n",
    "print(a)\n",
    "#removes by index number\n",
    "#return value"
   ]
  },
  {
   "cell_type": "code",
   "execution_count": 11,
   "metadata": {},
   "outputs": [
    {
     "name": "stdout",
     "output_type": "stream",
     "text": [
      "['a', 'b', 'c', 'e', 'f', 'g']\n",
      "['a', 'b', 'c', 'f', 'g']\n"
     ]
    }
   ],
   "source": [
    "#it removes by element. Remove first occurrence of value. \n",
    "l1=['a', 'b', 'c', 'e', 'f', 'g']\n",
    "print(l1)\n",
    "l1.remove(\"e\")\n",
    "print(l1)"
   ]
  },
  {
   "cell_type": "code",
   "execution_count": 12,
   "metadata": {},
   "outputs": [
    {
     "name": "stdout",
     "output_type": "stream",
     "text": [
      "['a', 'b', 'c', 'e', 'f', 'g']\n",
      "['g', 'f', 'e', 'c', 'b', 'a']\n"
     ]
    }
   ],
   "source": [
    "l1=['a', 'b', 'c', 'e', 'f', 'g']\n",
    "print(l1)\n",
    "l1.reverse()\n",
    "#it will write whole list or any function from right to left without following any order.\n",
    "print(l1)"
   ]
  },
  {
   "cell_type": "code",
   "execution_count": 13,
   "metadata": {},
   "outputs": [
    {
     "name": "stdout",
     "output_type": "stream",
     "text": [
      "['a', 'b', 'k', 'c', 'f', 'g']\n",
      "['k', 'g', 'f', 'c', 'b', 'a']\n"
     ]
    }
   ],
   "source": [
    "l1=['a', 'b', 'k', 'c', 'f', 'g']\n",
    "print(l1)\n",
    "l1.sort(reverse=True)\n",
    "print(l1)"
   ]
  },
  {
   "cell_type": "code",
   "execution_count": 14,
   "metadata": {},
   "outputs": [
    {
     "data": {
      "text/plain": [
       "['a', 'b', 'c', 'e', 'f', 'g', 'd', 'l']"
      ]
     },
     "execution_count": 14,
     "metadata": {},
     "output_type": "execute_result"
    }
   ],
   "source": [
    "l1=['a', 'b', 'c', 'e', 'f', 'g']\n",
    "l1.__add__(['d','l'])#in line operation"
   ]
  },
  {
   "cell_type": "code",
   "execution_count": 15,
   "metadata": {},
   "outputs": [
    {
     "data": {
      "text/plain": [
       "list"
      ]
     },
     "execution_count": 15,
     "metadata": {},
     "output_type": "execute_result"
    }
   ],
   "source": [
    "l1=['a']\n",
    "l1.__class__"
   ]
  },
  {
   "cell_type": "code",
   "execution_count": 16,
   "metadata": {},
   "outputs": [
    {
     "name": "stdout",
     "output_type": "stream",
     "text": [
      "False\n"
     ]
    }
   ],
   "source": [
    "l1=['a', 'b', 'c', 'e', 'f', 'g']\n",
    "print(l1.__contains__('n'))"
   ]
  },
  {
   "cell_type": "code",
   "execution_count": 17,
   "metadata": {},
   "outputs": [
    {
     "ename": "AttributeError",
     "evalue": "'list' object has no attribute '____'",
     "output_type": "error",
     "traceback": [
      "\u001b[1;31m---------------------------------------------------------------------------\u001b[0m",
      "\u001b[1;31mAttributeError\u001b[0m                            Traceback (most recent call last)",
      "\u001b[1;32m<ipython-input-17-ad782a2b4255>\u001b[0m in \u001b[0;36m<module>\u001b[1;34m\u001b[0m\n\u001b[0;32m      1\u001b[0m \u001b[0ml1\u001b[0m\u001b[1;33m=\u001b[0m\u001b[1;33m[\u001b[0m\u001b[1;34m'a'\u001b[0m\u001b[1;33m,\u001b[0m \u001b[1;34m'b'\u001b[0m\u001b[1;33m,\u001b[0m \u001b[1;34m'c'\u001b[0m\u001b[1;33m,\u001b[0m \u001b[1;34m'e'\u001b[0m\u001b[1;33m,\u001b[0m \u001b[1;34m'f'\u001b[0m\u001b[1;33m,\u001b[0m \u001b[1;34m'g'\u001b[0m\u001b[1;33m]\u001b[0m\u001b[1;33m\u001b[0m\u001b[1;33m\u001b[0m\u001b[0m\n\u001b[1;32m----> 2\u001b[1;33m \u001b[0mprint\u001b[0m\u001b[1;33m(\u001b[0m\u001b[0ml1\u001b[0m\u001b[1;33m.\u001b[0m\u001b[0m____\u001b[0m\u001b[1;33m)\u001b[0m\u001b[1;33m\u001b[0m\u001b[1;33m\u001b[0m\u001b[0m\n\u001b[0m",
      "\u001b[1;31mAttributeError\u001b[0m: 'list' object has no attribute '____'"
     ]
    }
   ],
   "source": [
    "l1=['a', 'b', 'c', 'e', 'f', 'g']\n",
    "print(l1.____)"
   ]
  },
  {
   "cell_type": "code",
   "execution_count": null,
   "metadata": {},
   "outputs": [],
   "source": [
    "l1=['a', 'b', 'c', 'e', 'f', 'g']\n",
    "print(l1.__hash__)"
   ]
  },
  {
   "cell_type": "code",
   "execution_count": null,
   "metadata": {},
   "outputs": [],
   "source": [
    "l1=['a', 'b', 'c', 'e', 'f', 'g']\n",
    "print(l1.__len__())"
   ]
  },
  {
   "cell_type": "code",
   "execution_count": null,
   "metadata": {},
   "outputs": [],
   "source": [
    "#for rpitition. we use loop\n",
    "#to stop repitition we use function\n",
    "[\"PAKISTAN\"]*20 #loop\n",
    "#it repeates pakistan 20 times"
   ]
  },
  {
   "cell_type": "markdown",
   "metadata": {},
   "source": [
    "# loop"
   ]
  },
  {
   "cell_type": "raw",
   "metadata": {},
   "source": [
    "\n",
    "# counter\n",
    "# logic\n",
    "# increment / decrement\n",
    "1.while loop\n",
    "2.for loop"
   ]
  },
  {
   "cell_type": "code",
   "execution_count": 1,
   "metadata": {},
   "outputs": [
    {
     "name": "stdout",
     "output_type": "stream",
     "text": [
      "Imran Khan 1\n",
      "Imran Khan 2\n",
      "Imran Khan 3\n",
      "Imran Khan 4\n",
      "Imran Khan 5\n",
      "Imran Khan 6\n",
      "Imran Khan 7\n",
      "Imran Khan 8\n",
      "Imran Khan 9\n",
      "Imran Khan 10\n"
     ]
    }
   ],
   "source": [
    "counter = 1 #counter\n",
    "while counter <= 10: #logic\n",
    "    print(\"Imran Khan\", counter)\n",
    "    counter += 1 #increment\n",
    "# if your logic is correct then it will run only"
   ]
  },
  {
   "cell_type": "code",
   "execution_count": 2,
   "metadata": {},
   "outputs": [
    {
     "name": "stdout",
     "output_type": "stream",
     "text": [
      "Imran Khan 100\n",
      "Imran Khan 99\n",
      "Imran Khan 98\n",
      "Imran Khan 97\n",
      "Imran Khan 96\n",
      "Imran Khan 95\n",
      "Imran Khan 94\n",
      "Imran Khan 93\n",
      "Imran Khan 92\n",
      "Imran Khan 91\n",
      "Imran Khan 90\n"
     ]
    }
   ],
   "source": [
    "counter = 100 #counter\n",
    "while counter >= 90: #logic\n",
    "    print(\"Imran Khan\", counter)\n",
    "    counter -= 1 #decrement\n",
    "# if your logic is correct then it will run only"
   ]
  },
  {
   "cell_type": "code",
   "execution_count": 3,
   "metadata": {},
   "outputs": [
    {
     "name": "stdout",
     "output_type": "stream",
     "text": [
      "Imran Khan 1\n",
      "Imran Khan 2\n",
      "Imran Khan 3\n",
      "Imran Khan 4\n",
      "Imran Khan 5\n",
      "Imran Khan 6\n",
      "Imran Khan 7\n",
      "Imran Khan 8\n",
      "Imran Khan 9\n",
      "Imran Khan 10\n"
     ]
    }
   ],
   "source": [
    "for i in range(1, 11):\n",
    "    print(\"Imran Khan\", i)"
   ]
  },
  {
   "cell_type": "code",
   "execution_count": null,
   "metadata": {},
   "outputs": [],
   "source": [
    "[\"pakistan\"+str(x) for x in range(1, 11)]"
   ]
  },
  {
   "cell_type": "code",
   "execution_count": 4,
   "metadata": {},
   "outputs": [
    {
     "name": "stdout",
     "output_type": "stream",
     "text": [
      "2 x 1 = 2\n",
      "2 x 2 = 4\n",
      "2 x 3 = 6\n",
      "2 x 4 = 8\n",
      "2 x 5 = 10\n",
      "2 x 6 = 12\n",
      "2 x 7 = 14\n",
      "2 x 8 = 16\n",
      "2 x 9 = 18\n",
      "2 x 10 = 20\n",
      "2 x 11 = 22\n",
      "2 x 12 = 24\n",
      "2 x 13 = 26\n",
      "2 x 14 = 28\n",
      "2 x 15 = 30\n",
      "2 x 16 = 32\n",
      "2 x 17 = 34\n",
      "2 x 18 = 36\n",
      "2 x 19 = 38\n",
      "2 x 20 = 40\n"
     ]
    }
   ],
   "source": [
    "for i in range(1, 21):\n",
    "    print (\"2 x\", i, \"=\", 2*i)"
   ]
  },
  {
   "cell_type": "markdown",
   "metadata": {},
   "source": [
    "# Tuple"
   ]
  },
  {
   "cell_type": "code",
   "execution_count": null,
   "metadata": {},
   "outputs": [],
   "source": [
    "dir(tuple)"
   ]
  },
  {
   "cell_type": "code",
   "execution_count": null,
   "metadata": {},
   "outputs": [],
   "source": [
    "a = (1, 2, 3, 2, 1, 2)\n",
    "a.count(2)"
   ]
  },
  {
   "cell_type": "code",
   "execution_count": null,
   "metadata": {},
   "outputs": [],
   "source": [
    "#input from user name father name. add it to list. "
   ]
  },
  {
   "cell_type": "code",
   "execution_count": null,
   "metadata": {},
   "outputs": [],
   "source": [
    "\n",
    "for i in range(1, 1>=i):\n",
    "    input(name)\n",
    "    print(input(name = \"Name\"))\n",
    "    input(fname)\n",
    "    print(fname = \"Father Name\")\n",
    "    input(inst)\n",
    "    print(inst = \"Institute\")\n",
    "    \n",
    "    "
   ]
  },
  {
   "cell_type": "code",
   "execution_count": null,
   "metadata": {},
   "outputs": [],
   "source": [
    "counter = 1000 #counter\n",
    "while (counter >= 990): #logic\n",
    "    print( counter)\n",
    "    counter -= 1 #decrement\n",
    "# if your logic is correct then it will run only"
   ]
  },
  {
   "cell_type": "code",
   "execution_count": null,
   "metadata": {},
   "outputs": [],
   "source": [
    "for i in range(1000, 989, -1):\n",
    "    print(i)"
   ]
  },
  {
   "cell_type": "code",
   "execution_count": null,
   "metadata": {},
   "outputs": [],
   "source": [
    "for i in range(65, 90):\n",
    "    for x in range(97, 122):\n",
    "        for z in range(48, 57):\n",
    "            print(chr(i), chr(x), z)"
   ]
  },
  {
   "cell_type": "code",
   "execution_count": null,
   "metadata": {},
   "outputs": [],
   "source": [
    "a = int(input(\"number\"))\n",
    "for i in range(1, 11):\n",
    "    print (a, \"x\", i, \"=\", a*i)"
   ]
  },
  {
   "cell_type": "code",
   "execution_count": 22,
   "metadata": {},
   "outputs": [
    {
     "name": "stdout",
     "output_type": "stream",
     "text": [
      "\n",
      "(0, 1) \n",
      "\n",
      "\n",
      "\n",
      "(1, 2) \n",
      "(2, 0) \n",
      "(2, 1) \n",
      "\n",
      "\n",
      "\n",
      "(3, 2) \n"
     ]
    }
   ],
   "source": [
    "l1 = [[2,5,7],\n",
    "     [8,9,10],\n",
    "     [20,30,44],\n",
    "     [4,9,15]]\n",
    "\n",
    "for ri, r in enumerate(l1):\n",
    "    for ci, c in enumerate(r):\n",
    "        if c%5==0:\n",
    "            print((ri,ci), end=\" \")\n",
    "        print()"
   ]
  },
  {
   "cell_type": "code",
   "execution_count": 21,
   "metadata": {
    "scrolled": false
   },
   "outputs": [
    {
     "name": "stdout",
     "output_type": "stream",
     "text": [
      "5\n",
      "10\n",
      "15\n",
      "20\n",
      "25\n",
      "30\n",
      "35\n",
      "40\n",
      "45\n",
      "50\n",
      "55\n",
      "60\n",
      "65\n",
      "70\n",
      "75\n",
      "80\n",
      "85\n",
      "90\n",
      "95\n",
      "100\n",
      "105\n",
      "110\n",
      "115\n",
      "120\n",
      "125\n",
      "130\n",
      "135\n",
      "140\n",
      "145\n",
      "150\n",
      "155\n",
      "160\n",
      "165\n",
      "170\n",
      "175\n",
      "180\n",
      "185\n",
      "190\n",
      "195\n",
      "200\n",
      "205\n",
      "210\n",
      "215\n",
      "220\n",
      "225\n",
      "230\n",
      "235\n",
      "240\n",
      "245\n",
      "250\n",
      "255\n",
      "260\n",
      "265\n",
      "270\n",
      "275\n",
      "280\n",
      "285\n",
      "290\n",
      "295\n",
      "300\n",
      "305\n",
      "310\n",
      "315\n",
      "320\n",
      "325\n",
      "330\n",
      "335\n",
      "340\n",
      "345\n",
      "350\n",
      "355\n",
      "360\n",
      "365\n",
      "370\n",
      "375\n",
      "380\n",
      "385\n",
      "390\n",
      "395\n",
      "400\n",
      "405\n",
      "410\n",
      "415\n",
      "420\n",
      "425\n",
      "430\n",
      "435\n",
      "440\n",
      "445\n",
      "450\n",
      "455\n",
      "460\n",
      "465\n",
      "470\n",
      "475\n",
      "480\n",
      "485\n",
      "490\n",
      "495\n",
      "500\n",
      "505\n",
      "510\n",
      "515\n",
      "520\n",
      "525\n",
      "530\n",
      "535\n",
      "540\n",
      "545\n",
      "550\n",
      "555\n",
      "560\n",
      "565\n",
      "570\n",
      "575\n",
      "580\n",
      "585\n",
      "590\n",
      "595\n",
      "600\n",
      "605\n",
      "610\n",
      "615\n",
      "620\n",
      "625\n",
      "630\n",
      "635\n",
      "640\n",
      "645\n",
      "650\n",
      "655\n",
      "660\n",
      "665\n",
      "670\n",
      "675\n",
      "680\n",
      "685\n",
      "690\n",
      "695\n",
      "700\n",
      "705\n",
      "710\n",
      "715\n",
      "720\n",
      "725\n",
      "730\n",
      "735\n",
      "740\n",
      "745\n",
      "750\n",
      "755\n",
      "760\n",
      "765\n",
      "770\n",
      "775\n",
      "780\n",
      "785\n",
      "790\n",
      "795\n",
      "800\n",
      "805\n",
      "810\n",
      "815\n",
      "820\n",
      "825\n",
      "830\n",
      "835\n",
      "840\n",
      "845\n",
      "850\n",
      "855\n",
      "860\n",
      "865\n",
      "870\n",
      "875\n",
      "880\n",
      "885\n",
      "890\n",
      "895\n",
      "900\n",
      "905\n",
      "910\n",
      "915\n",
      "920\n",
      "925\n",
      "930\n",
      "935\n",
      "940\n",
      "945\n",
      "950\n",
      "955\n",
      "960\n",
      "965\n",
      "970\n",
      "975\n",
      "980\n",
      "985\n",
      "990\n",
      "995\n"
     ]
    }
   ],
   "source": [
    "for i in range(1,1000):\n",
    "    if i%5==0 & i%7==0 & i%11==0:\n",
    "        print (i)"
   ]
  },
  {
   "cell_type": "code",
   "execution_count": 23,
   "metadata": {},
   "outputs": [
    {
     "ename": "IndentationError",
     "evalue": "expected an indented block (<ipython-input-23-7161c16949f0>, line 12)",
     "output_type": "error",
     "traceback": [
      "\u001b[1;36m  File \u001b[1;32m\"<ipython-input-23-7161c16949f0>\"\u001b[1;36m, line \u001b[1;32m12\u001b[0m\n\u001b[1;33m    elif initiative == 'girl':\u001b[0m\n\u001b[1;37m       ^\u001b[0m\n\u001b[1;31mIndentationError\u001b[0m\u001b[1;31m:\u001b[0m expected an indented block\n"
     ]
    }
   ],
   "source": [
    "initiative = 'you'\n",
    "rich = True\n",
    "slap = False\n",
    "if initiative == 'you':\n",
    "    if rich == True and slap == True:\n",
    "        print('customer feedback')\n",
    "    elif rich == True and slap == False:\n",
    "        print('Direct marketing')\n",
    "    elif husband == True:\n",
    "        print('demand and supply gap')\n",
    "elif initiative == 'friend':\n",
    "elif initiative == 'girl':\n"
   ]
  },
  {
   "cell_type": "code",
   "execution_count": null,
   "metadata": {},
   "outputs": [],
   "source": []
  }
 ],
 "metadata": {
  "kernelspec": {
   "display_name": "Python 3",
   "language": "python",
   "name": "python3"
  },
  "language_info": {
   "codemirror_mode": {
    "name": "ipython",
    "version": 3
   },
   "file_extension": ".py",
   "mimetype": "text/x-python",
   "name": "python",
   "nbconvert_exporter": "python",
   "pygments_lexer": "ipython3",
   "version": "3.7.3"
  }
 },
 "nbformat": 4,
 "nbformat_minor": 2
}
